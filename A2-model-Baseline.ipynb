{
 "cells": [
  {
   "cell_type": "code",
   "execution_count": 1,
   "metadata": {},
   "outputs": [],
   "source": [
    "# Import necessary libraries\n",
    "import pandas as pd  # For data manipulation and analysis\n",
    "import numpy as np  # For numerical operations\n",
    "\n",
    "# Import metrics from scikit-learn for model evaluation\n",
    "from sklearn.metrics import accuracy_score, classification_report, roc_auc_score\n"
   ]
  },
  {
   "cell_type": "markdown",
   "metadata": {},
   "source": [
    "## Task Initialization and Feature Selection"
   ]
  },
  {
   "cell_type": "code",
   "execution_count": 2,
   "metadata": {},
   "outputs": [],
   "source": [
    "# Read in the data\n",
    "train_set = pd.read_csv('Data/train_processed.csv')\n",
    "dev_set = pd.read_csv('Data/dev_processed.csv')\n",
    "test_set = pd.read_csv('Data/test_processed.csv')\n",
    "\n",
    "# Feature columns\n",
    "columns_1 = ['issue_area_Attorneys', 'issue_area_Civil Rights', 'issue_area_Criminal Procedure', 'issue_area_Due Process', 'issue_area_Economic Activity', 'issue_area_Federal Taxation', 'issue_area_Federalism', 'issue_area_First Amendment', 'issue_area_Interstate Relations', 'issue_area_Judicial Power', 'issue_area_Miscellaneous', 'issue_area_Privacy', 'issue_area_Private Action', 'issue_area_UNKNOWN', 'issue_area_Unions',\n",
    "            'file_year_2000_2010', 'file_year_2010_2020', 'file_year_before_2000', 'argument_quarter_1.0', 'argument_quarter_2.0', 'argument_quarter_3.0', 'argument_quarter_4.0', 'argument_quarter_nan',\n",
    "            'court_hearing_length', 'utterances_number','lagged_time', 'speech_rate',]\n",
    "columns_2 = ['successful_appeal']\n",
    "\n",
    "# Filter the columns for the train and dev sets\n",
    "final_columns = columns_1 + [f'embedding_{i}' for i in range(1, 385)] + columns_2\n",
    "train_set = train_set[final_columns]\n",
    "dev_set = dev_set[final_columns]\n",
    "\n",
    "# Filter the columns for the test set\n",
    "final_columns.remove('successful_appeal')\n",
    "test_set = test_set[final_columns]"
   ]
  },
  {
   "cell_type": "markdown",
   "metadata": {},
   "source": [
    "## Baseline Model"
   ]
  },
  {
   "cell_type": "markdown",
   "metadata": {},
   "source": [
    "### Majority Class Baseline"
   ]
  },
  {
   "cell_type": "code",
   "execution_count": 3,
   "metadata": {},
   "outputs": [
    {
     "name": "stdout",
     "output_type": "stream",
     "text": [
      "Majority Class Baseline Performance:\n",
      "              precision    recall  f1-score   support\n",
      "\n",
      "      Affirm       0.00      0.00      0.00       210\n",
      "     Reverse       0.64      1.00      0.78       367\n",
      "\n",
      "    accuracy                           0.64       577\n",
      "   macro avg       0.32      0.50      0.39       577\n",
      "weighted avg       0.40      0.64      0.49       577\n",
      "\n",
      "ROC-AUC: 0.5000\n"
     ]
    },
    {
     "name": "stderr",
     "output_type": "stream",
     "text": [
      "/opt/anaconda3/envs/ml/lib/python3.8/site-packages/sklearn/metrics/_classification.py:1469: UndefinedMetricWarning: Precision and F-score are ill-defined and being set to 0.0 in labels with no predicted samples. Use `zero_division` parameter to control this behavior.\n",
      "  _warn_prf(average, modifier, msg_start, len(result))\n",
      "/opt/anaconda3/envs/ml/lib/python3.8/site-packages/sklearn/metrics/_classification.py:1469: UndefinedMetricWarning: Precision and F-score are ill-defined and being set to 0.0 in labels with no predicted samples. Use `zero_division` parameter to control this behavior.\n",
      "  _warn_prf(average, modifier, msg_start, len(result))\n",
      "/opt/anaconda3/envs/ml/lib/python3.8/site-packages/sklearn/metrics/_classification.py:1469: UndefinedMetricWarning: Precision and F-score are ill-defined and being set to 0.0 in labels with no predicted samples. Use `zero_division` parameter to control this behavior.\n",
      "  _warn_prf(average, modifier, msg_start, len(result))\n"
     ]
    }
   ],
   "source": [
    "# Step 1: Find the majority class in the training set\n",
    "majority_class = train_set['successful_appeal'].value_counts().idxmax()\n",
    "\n",
    "# Step 2: Predict the majority class for all samples in the development set\n",
    "majority_preds = [majority_class] * len(dev_set)\n",
    "\n",
    "# Step 3: Evaluate with accuracy, precision, recall, F1-score, and ROC-AUC\n",
    "print(\"Majority Class Baseline Performance:\")\n",
    "print(classification_report(dev_set['successful_appeal'], majority_preds, target_names=['Affirm', 'Reverse']))\n",
    "try:\n",
    "    roc_auc = roc_auc_score(dev_set['successful_appeal'], majority_preds)\n",
    "    print(f\"ROC-AUC: {roc_auc:.4f}\")\n",
    "except ValueError:\n",
    "    print(\"ROC-AUC: Not applicable (only one class predicted)\")\n"
   ]
  },
  {
   "cell_type": "markdown",
   "metadata": {},
   "source": [
    "### Random Guessing Baseline"
   ]
  },
  {
   "cell_type": "code",
   "execution_count": 4,
   "metadata": {},
   "outputs": [
    {
     "name": "stdout",
     "output_type": "stream",
     "text": [
      "Random Guessing Baseline Performance:\n",
      "              precision    recall  f1-score   support\n",
      "\n",
      "      Affirm       0.39      0.58      0.46       210\n",
      "     Reverse       0.66      0.48      0.56       367\n",
      "\n",
      "    accuracy                           0.51       577\n",
      "   macro avg       0.53      0.53      0.51       577\n",
      "weighted avg       0.56      0.51      0.52       577\n",
      "\n",
      "ROC-AUC: 0.5279\n"
     ]
    }
   ],
   "source": [
    "# Step 1: Predict randomly (0 or 1) for each sample in the development set\n",
    "random_preds = np.random.randint(0, 2, len(dev_set))\n",
    "\n",
    "# Step 2: Evaluate with accuracy, precision, recall, F1-score, and ROC-AUC\n",
    "print(\"Random Guessing Baseline Performance:\")\n",
    "print(classification_report(dev_set['successful_appeal'], random_preds, target_names=['Affirm', 'Reverse']))\n",
    "roc_auc = roc_auc_score(dev_set['successful_appeal'], random_preds)\n",
    "print(f\"ROC-AUC: {roc_auc:.4f}\")\n"
   ]
  }
 ],
 "metadata": {
  "kernelspec": {
   "display_name": "ml",
   "language": "python",
   "name": "python3"
  },
  "language_info": {
   "codemirror_mode": {
    "name": "ipython",
    "version": 3
   },
   "file_extension": ".py",
   "mimetype": "text/x-python",
   "name": "python",
   "nbconvert_exporter": "python",
   "pygments_lexer": "ipython3",
   "version": "3.8.19"
  }
 },
 "nbformat": 4,
 "nbformat_minor": 2
}
